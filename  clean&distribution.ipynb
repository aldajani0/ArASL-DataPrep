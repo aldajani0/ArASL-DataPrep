{
 "cells": [
  {
   "cell_type": "code",
   "execution_count": 3,
   "id": "8cb72791",
   "metadata": {},
   "outputs": [],
   "source": [
    "#Path Settings + Helper Functions\n",
    "# الفكرة: نحدد مسار مجلد التقسيمات (train/val/test)، ونجهّز دوال بسيطة نستخدمها لاحقاً.\n",
    "\n",
    "from pathlib import Path\n",
    "import hashlib\n",
    "import pandas as pd\n",
    "\n",
    "# هذا المسار فيه المجلدات الثلاثة: train / val / test\n",
    "ROOT = Path(\"dataset_split\") \n",
    "\n",
    "# امتدادات الصور اللي بنعتبرها\n",
    "EXTS = {'.jpg', '.jpeg', '.png', '.bmp', '.gif', '.webp'}\n",
    "\n",
    "def is_img(p: Path) -> bool:\n",
    "    \"Make sure the file is an image with a known extension \"\n",
    "    return p.is_file() and p.suffix.lower() in EXTS\n",
    "\n",
    "def sha256(p: Path, buf_size: int = 1<<20) -> str:\n",
    "    \"We calculate the SHA256 fingerprint of the file to detect 100% identical duplicates\"\n",
    "    h = hashlib.sha256()\n",
    "    with p.open('rb') as f:\n",
    "        while True:\n",
    "            chunk = f.read(buf_size)\n",
    "            if not chunk: break\n",
    "            h.update(chunk)\n",
    "    return h.hexdigest()"
   ]
  },
  {
   "cell_type": "markdown",
   "id": "f5a8b939",
   "metadata": {},
   "source": [
    "Quick check that the divisions are there and that we have categories"
   ]
  },
  {
   "cell_type": "code",
   "execution_count": 5,
   "id": "f2c4bf8f",
   "metadata": {},
   "outputs": [
    {
     "name": "stdout",
     "output_type": "stream",
     "text": [
      " Existing divisions: ['train', 'val', 'test']\n",
      "Number of categories: 32\n",
      "Top 10 categories: ['ain', 'al', 'aleff', 'bb', 'dal', 'dha', 'dhad', 'fa', 'gaaf', 'ghain']\n"
     ]
    }
   ],
   "source": [
    "# الهدف: نطبع نبذة سريعة قبل ما نبدأ تنظيف أو حذف\n",
    "\n",
    "splits_found = [sp for sp in (\"train\", \"val\", \"test\") if (ROOT/sp).exists()]\n",
    "print(\" Existing divisions:\", splits_found)\n",
    "\n",
    "classes = set()\n",
    "for sp in splits_found:\n",
    "    d = ROOT/sp\n",
    "    classes |= {c.name for c in d.iterdir() if c.is_dir()}\n",
    "print(\"Number of categories:\", len(classes))\n",
    "print(\"Top 10 categories:\", sorted(classes)[:10])"
   ]
  },
  {
   "cell_type": "markdown",
   "id": "6305c57a",
   "metadata": {},
   "source": [
    "Detect duplicates without actual deletion (Dry Run)"
   ]
  },
  {
   "cell_type": "code",
   "execution_count": 7,
   "id": "627d0800",
   "metadata": {},
   "outputs": [
    {
     "name": "stdout",
     "output_type": "stream",
     "text": [
      "Number of duplicate files (candidates for deletion): 5627\n",
      "example: dataset_split/train/ain/AIN (933).JPG\n",
      "example: dataset_split/train/ain/AIN (909).JPG\n",
      "example: dataset_split/train/ain/AIN (1026).JPG\n",
      "example: dataset_split/train/ain/AIN (987).JPG\n",
      "example: dataset_split/train/ain/AIN (968).JPG\n",
      "example: dataset_split/train/ain/AIN (1010).JPG\n",
      "example: dataset_split/train/ain/AIN (895).JPG\n",
      "example: dataset_split/train/ain/AIN (944).JPG\n",
      "example: dataset_split/train/ain/AIN (905).JPG\n",
      "example: dataset_split/train/ain/AIN (840).JPG\n"
     ]
    }
   ],
   "source": [
    "# الهدف: نعرف وش الملفات المكررة \"بالضبط\" داخل كل فئة عبر (train/val/test) قبل الحذف.\n",
    "\n",
    "DRY_RUN = True  # خليه True الآن. بعد ما نتاكد نغيره  False في الخلية التالية.\n",
    "\n",
    "def find_dups(root: Path):\n",
    "    removed_candidates = []\n",
    "    classes = set()\n",
    "    for sp in (\"train\",\"val\",\"test\"):\n",
    "        d = root/sp\n",
    "        if d.exists():\n",
    "            classes |= {c.name for c in d.iterdir() if c.is_dir()}\n",
    "\n",
    "    for cls in sorted(classes):\n",
    "        seen = {}\n",
    "        for sp in (\"train\",\"val\",\"test\"):  # نحافظ على train أول، بعدين val، بعدين test\n",
    "            d = root/sp/cls\n",
    "            if not d.exists(): continue\n",
    "            for p in d.rglob(\"*\"):\n",
    "                if not is_img(p): continue\n",
    "                h = sha256(p)\n",
    "                if h in seen:\n",
    "                    removed_candidates.append(p)\n",
    "                else:\n",
    "                    seen[h] = p\n",
    "    return removed_candidates\n",
    "\n",
    "dups = find_dups(ROOT)\n",
    "print(f\"Number of duplicate files (candidates for deletion): {len(dups)}\")\n",
    "for p in dups[:10]:\n",
    "    print(\"example:\", p)"
   ]
  },
  {
   "cell_type": "markdown",
   "id": "5f2a59d4",
   "metadata": {},
   "source": [
    "يعني فيه ٥٦٢٧ صورة مكررة بالضبط^^^"
   ]
  },
  {
   "cell_type": "code",
   "execution_count": 8,
   "id": "a2b91cab",
   "metadata": {},
   "outputs": [
    {
     "name": "stdout",
     "output_type": "stream",
     "text": [
      "Deleted: 5627 file\n"
     ]
    }
   ],
   "source": [
    "#Actually delete duplicates\n",
    "\n",
    "DRY_RUN = False \n",
    "\n",
    "def dedupe(root: Path, dry_run: bool = True):\n",
    "    removed = []\n",
    "    classes = set()\n",
    "    for sp in (\"train\",\"val\",\"test\"):\n",
    "        d = root/sp\n",
    "        if d.exists():\n",
    "            classes |= {c.name for c in d.iterdir() if c.is_dir()}\n",
    "\n",
    "    for cls in sorted(classes):\n",
    "        seen = {}\n",
    "        for sp in (\"train\",\"val\",\"test\"):\n",
    "            d = root/sp/cls\n",
    "            if not d.exists(): continue\n",
    "            for p in d.rglob(\"*\"):\n",
    "                if not is_img(p): continue\n",
    "                h = sha256(p)\n",
    "                if h in seen:\n",
    "                    removed.append(p)\n",
    "                    if not dry_run:\n",
    "                        try:\n",
    "                            p.unlink()\n",
    "                        except Exception as e:\n",
    "                            print(f\"Delete failed {p}: {e}\")\n",
    "                else:\n",
    "                    seen[h] = p\n",
    "    return removed\n",
    "\n",
    "removed = dedupe(ROOT, dry_run=DRY_RUN)\n",
    "print(f\"{'Deleted' if not DRY_RUN else 'Candidate for deletion'}: {len(removed)} file\")"
   ]
  },
  {
   "cell_type": "code",
   "execution_count": 9,
   "id": "475f8b26",
   "metadata": {},
   "outputs": [
    {
     "name": "stdout",
     "output_type": "stream",
     "text": [
      " Duplicate after deletion : 0\n"
     ]
    }
   ],
   "source": [
    "# إعادة كشف للتأكد ما بقى مكررات\n",
    "dups_after = find_dups(ROOT)\n",
    "print(\" Duplicate after deletion :\", len(dups_after))"
   ]
  },
  {
   "cell_type": "markdown",
   "id": "38298c60",
   "metadata": {},
   "source": [
    "Distribution statistics for each division and class + save CSV"
   ]
  },
  {
   "cell_type": "code",
   "execution_count": 10,
   "id": "2c5f8e78",
   "metadata": {},
   "outputs": [
    {
     "data": {
      "text/html": [
       "<div>\n",
       "<style scoped>\n",
       "    .dataframe tbody tr th:only-of-type {\n",
       "        vertical-align: middle;\n",
       "    }\n",
       "\n",
       "    .dataframe tbody tr th {\n",
       "        vertical-align: top;\n",
       "    }\n",
       "\n",
       "    .dataframe thead th {\n",
       "        text-align: right;\n",
       "    }\n",
       "</style>\n",
       "<table border=\"1\" class=\"dataframe\">\n",
       "  <thead>\n",
       "    <tr style=\"text-align: right;\">\n",
       "      <th></th>\n",
       "      <th>split</th>\n",
       "      <th>class</th>\n",
       "      <th>count</th>\n",
       "    </tr>\n",
       "  </thead>\n",
       "  <tbody>\n",
       "    <tr>\n",
       "      <th>0</th>\n",
       "      <td>test</td>\n",
       "      <td>ain</td>\n",
       "      <td>191</td>\n",
       "    </tr>\n",
       "    <tr>\n",
       "      <th>1</th>\n",
       "      <td>test</td>\n",
       "      <td>al</td>\n",
       "      <td>135</td>\n",
       "    </tr>\n",
       "    <tr>\n",
       "      <th>2</th>\n",
       "      <td>test</td>\n",
       "      <td>aleff</td>\n",
       "      <td>136</td>\n",
       "    </tr>\n",
       "    <tr>\n",
       "      <th>3</th>\n",
       "      <td>test</td>\n",
       "      <td>bb</td>\n",
       "      <td>161</td>\n",
       "    </tr>\n",
       "    <tr>\n",
       "      <th>4</th>\n",
       "      <td>test</td>\n",
       "      <td>dal</td>\n",
       "      <td>139</td>\n",
       "    </tr>\n",
       "    <tr>\n",
       "      <th>5</th>\n",
       "      <td>test</td>\n",
       "      <td>dha</td>\n",
       "      <td>153</td>\n",
       "    </tr>\n",
       "    <tr>\n",
       "      <th>6</th>\n",
       "      <td>test</td>\n",
       "      <td>dhad</td>\n",
       "      <td>149</td>\n",
       "    </tr>\n",
       "    <tr>\n",
       "      <th>7</th>\n",
       "      <td>test</td>\n",
       "      <td>fa</td>\n",
       "      <td>178</td>\n",
       "    </tr>\n",
       "    <tr>\n",
       "      <th>8</th>\n",
       "      <td>test</td>\n",
       "      <td>gaaf</td>\n",
       "      <td>151</td>\n",
       "    </tr>\n",
       "    <tr>\n",
       "      <th>9</th>\n",
       "      <td>test</td>\n",
       "      <td>ghain</td>\n",
       "      <td>182</td>\n",
       "    </tr>\n",
       "    <tr>\n",
       "      <th>10</th>\n",
       "      <td>test</td>\n",
       "      <td>ha</td>\n",
       "      <td>140</td>\n",
       "    </tr>\n",
       "    <tr>\n",
       "      <th>11</th>\n",
       "      <td>test</td>\n",
       "      <td>haa</td>\n",
       "      <td>137</td>\n",
       "    </tr>\n",
       "    <tr>\n",
       "      <th>12</th>\n",
       "      <td>test</td>\n",
       "      <td>jeem</td>\n",
       "      <td>131</td>\n",
       "    </tr>\n",
       "    <tr>\n",
       "      <th>13</th>\n",
       "      <td>test</td>\n",
       "      <td>kaaf</td>\n",
       "      <td>155</td>\n",
       "    </tr>\n",
       "    <tr>\n",
       "      <th>14</th>\n",
       "      <td>test</td>\n",
       "      <td>khaa</td>\n",
       "      <td>149</td>\n",
       "    </tr>\n",
       "    <tr>\n",
       "      <th>15</th>\n",
       "      <td>test</td>\n",
       "      <td>la</td>\n",
       "      <td>153</td>\n",
       "    </tr>\n",
       "    <tr>\n",
       "      <th>16</th>\n",
       "      <td>test</td>\n",
       "      <td>laam</td>\n",
       "      <td>163</td>\n",
       "    </tr>\n",
       "    <tr>\n",
       "      <th>17</th>\n",
       "      <td>test</td>\n",
       "      <td>meem</td>\n",
       "      <td>154</td>\n",
       "    </tr>\n",
       "    <tr>\n",
       "      <th>18</th>\n",
       "      <td>test</td>\n",
       "      <td>nun</td>\n",
       "      <td>169</td>\n",
       "    </tr>\n",
       "    <tr>\n",
       "      <th>19</th>\n",
       "      <td>test</td>\n",
       "      <td>ra</td>\n",
       "      <td>141</td>\n",
       "    </tr>\n",
       "  </tbody>\n",
       "</table>\n",
       "</div>"
      ],
      "text/plain": [
       "   split  class  count\n",
       "0   test    ain    191\n",
       "1   test     al    135\n",
       "2   test  aleff    136\n",
       "3   test     bb    161\n",
       "4   test    dal    139\n",
       "5   test    dha    153\n",
       "6   test   dhad    149\n",
       "7   test     fa    178\n",
       "8   test   gaaf    151\n",
       "9   test  ghain    182\n",
       "10  test     ha    140\n",
       "11  test    haa    137\n",
       "12  test   jeem    131\n",
       "13  test   kaaf    155\n",
       "14  test   khaa    149\n",
       "15  test     la    153\n",
       "16  test   laam    163\n",
       "17  test   meem    154\n",
       "18  test    nun    169\n",
       "19  test     ra    141"
      ]
     },
     "metadata": {},
     "output_type": "display_data"
    },
    {
     "name": "stdout",
     "output_type": "stream",
     "text": [
      "summary:\n"
     ]
    },
    {
     "data": {
      "text/html": [
       "<div>\n",
       "<style scoped>\n",
       "    .dataframe tbody tr th:only-of-type {\n",
       "        vertical-align: middle;\n",
       "    }\n",
       "\n",
       "    .dataframe tbody tr th {\n",
       "        vertical-align: top;\n",
       "    }\n",
       "\n",
       "    .dataframe thead th {\n",
       "        text-align: right;\n",
       "    }\n",
       "</style>\n",
       "<table border=\"1\" class=\"dataframe\">\n",
       "  <thead>\n",
       "    <tr style=\"text-align: right;\">\n",
       "      <th></th>\n",
       "      <th>sum</th>\n",
       "      <th>mean</th>\n",
       "      <th>std</th>\n",
       "      <th>min</th>\n",
       "      <th>max</th>\n",
       "    </tr>\n",
       "    <tr>\n",
       "      <th>split</th>\n",
       "      <th></th>\n",
       "      <th></th>\n",
       "      <th></th>\n",
       "      <th></th>\n",
       "      <th></th>\n",
       "    </tr>\n",
       "  </thead>\n",
       "  <tbody>\n",
       "    <tr>\n",
       "      <th>test</th>\n",
       "      <td>4828</td>\n",
       "      <td>150.87500</td>\n",
       "      <td>17.392527</td>\n",
       "      <td>119</td>\n",
       "      <td>191</td>\n",
       "    </tr>\n",
       "    <tr>\n",
       "      <th>train</th>\n",
       "      <td>38791</td>\n",
       "      <td>1212.21875</td>\n",
       "      <td>134.046630</td>\n",
       "      <td>943</td>\n",
       "      <td>1540</td>\n",
       "    </tr>\n",
       "    <tr>\n",
       "      <th>val</th>\n",
       "      <td>4803</td>\n",
       "      <td>150.09375</td>\n",
       "      <td>17.439960</td>\n",
       "      <td>117</td>\n",
       "      <td>192</td>\n",
       "    </tr>\n",
       "  </tbody>\n",
       "</table>\n",
       "</div>"
      ],
      "text/plain": [
       "         sum        mean         std  min   max\n",
       "split                                          \n",
       "test    4828   150.87500   17.392527  119   191\n",
       "train  38791  1212.21875  134.046630  943  1540\n",
       "val     4803   150.09375   17.439960  117   192"
      ]
     },
     "metadata": {},
     "output_type": "display_data"
    },
    {
     "name": "stdout",
     "output_type": "stream",
     "text": [
      "\n",
      "⚖️ Coefficient of variation (CV) for each split: :\n",
      " split\n",
      "test     0.115278\n",
      "train    0.110580\n",
      "val      0.116194\n",
      "Name: CV, dtype: float64\n",
      " Saved  class_distribution_by_split.csv\n"
     ]
    }
   ],
   "source": [
    "# الهدف: نشوف هل فيه تفاوت بين الفئات (عدم توازن)، ونحفظ جدول رسمي نرجع له وقت التدريب.\n",
    "\n",
    "def split_distribution(root: Path) -> pd.DataFrame:\n",
    "    rows=[]\n",
    "    for sp in (\"train\",\"val\",\"test\"):\n",
    "        d = root/sp\n",
    "        if not d.exists(): continue\n",
    "        for cls in sorted(c.name for c in d.iterdir() if c.is_dir()):\n",
    "            n = sum(1 for p in (d/cls).rglob(\"*\") if is_img(p))\n",
    "            rows.append({\"split\": sp, \"class\": cls, \"count\": n})\n",
    "    return pd.DataFrame(rows).sort_values([\"split\",\"class\"]).reset_index(drop=True)\n",
    "\n",
    "dist = split_distribution(ROOT)\n",
    "display(dist.head(20))\n",
    "\n",
    "# ملخص سريع\n",
    "\n",
    "summary = dist.groupby(\"split\")[\"count\"].agg(['sum','mean','std','min','max'])\n",
    "cv = dist.groupby(\"split\")[\"count\"].apply(lambda s: (s.std(ddof=1)/s.mean()) if s.mean() else 0).rename(\"CV\")\n",
    "\n",
    "print(\"summary:\")\n",
    "display(summary)\n",
    "print(\"\\n⚖️ Coefficient of variation (CV) for each split: :\\n\", cv)\n",
    "\n",
    "# نحفظ الإحصائية كـ CSV\n",
    "\n",
    "dist.to_csv(\"class_distribution_by_split.csv\", index=False)\n",
    "print(\" Saved  class_distribution_by_split.csv\")"
   ]
  },
  {
   "cell_type": "markdown",
   "id": "c6faff5a",
   "metadata": {},
   "source": [
    "A graph showing the distribution of each division."
   ]
  },
  {
   "cell_type": "code",
   "execution_count": 11,
   "id": "29d66b78",
   "metadata": {},
   "outputs": [
    {
     "data": {
      "image/png": "[encoded data removed]",
      "text/plain": [
       "<Figure size 640x480 with 1 Axes>"
      ]
     },
     "metadata": {},
     "output_type": "display_data"
    },
    {
     "data": {
      "image/png": "[encoded data removed]",
      "text/plain": [
       "<Figure size 640x480 with 1 Axes>"
      ]
     },
     "metadata": {},
     "output_type": "display_data"
    },
    {
     "data": {
      "image/png": "[encoded data removed]",
      "text/plain": [
       "<Figure size 640x480 with 1 Axes>"
      ]
     },
     "metadata": {},
     "output_type": "display_data"
    }
   ],
   "source": [
    "# الهدف: نشوف التفاوت بالعين — لو فيه فئات قليلة جدًا واضحة.\n",
    "\n",
    "import matplotlib.pyplot as plt\n",
    "\n",
    "for sp in (\"train\",\"val\",\"test\"):\n",
    "    dsp = dist[dist[\"split\"]==sp]\n",
    "    if dsp.empty: \n",
    "        print(f\"مافي بيانات لـ {sp}\")\n",
    "        continue\n",
    "    plt.figure()\n",
    "    plt.bar(dsp[\"class\"], dsp[\"count\"])\n",
    "    plt.xticks(rotation=90)\n",
    "    plt.title(f\"Class Distribution — {sp}\")\n",
    "    plt.tight_layout()\n",
    "    plt.show()"
   ]
  },
  {
   "cell_type": "markdown",
   "id": "0dc102b1",
   "metadata": {},
   "source": [
    "Detect corrupted/too small images"
   ]
  },
  {
   "cell_type": "code",
   "execution_count": null,
   "id": "e5aeedea",
   "metadata": {},
   "outputs": [
    {
     "name": "stdout",
     "output_type": "stream",
     "text": [
      "Number of damaged/invalid images: 0\n"
     ]
    }
   ],
   "source": [
    "# الهدف: نتأكد ما عندنا صور خربانة أو أبعادها صغيرة جدًا تضر التدريب.\n",
    "\n",
    "from PIL import Image\n",
    "\n",
    "def is_bad_image(p: Path):\n",
    "    try:\n",
    "        with Image.open(p) as im:\n",
    "            im.verify()  # يكشف ملفات تالفة\n",
    "        with Image.open(p) as im:\n",
    "            if im.width < 20 or im.height < 20:  # صغيرة جدًا\n",
    "                return True\n",
    "        return False\n",
    "    except Exception:\n",
    "        return True\n",
    "\n",
    "bad = []\n",
    "for sp in (\"train\",\"val\",\"test\"):\n",
    "    d = ROOT/sp\n",
    "    if not d.exists(): continue\n",
    "    for p in d.rglob(\"*\"):\n",
    "        if is_img(p) and is_bad_image(p):\n",
    "            bad.append(p)\n",
    "\n",
    "print(\"Number of damaged/invalid images:\", len(bad))\n",
    "for p in bad[:10]:\n",
    "    print(\"example:\", p)\n"
   ]
  },
  {
   "cell_type": "markdown",
   "id": "af3972d6",
   "metadata": {},
   "source": [
    "Augmentation definition (applies training time) + Important note for Sign Language"
   ]
  },
  {
   "cell_type": "code",
   "execution_count": 13,
   "id": "05c5953e",
   "metadata": {},
   "outputs": [
    {
     "name": "stdout",
     "output_type": "stream",
     "text": [
      "Augmentation is ready. Reminder: horizontal_flip= False\n"
     ]
    }
   ],
   "source": [
    "# الهدف: نحضّر باراميترات Augmentation وننتبه لموضوع الـflip لو يغيّر معنى الإشارة.\n",
    "\n",
    "from tensorflow.keras.preprocessing.image import ImageDataGenerator\n",
    "\n",
    "IMG_SIZE = (128, 128)\n",
    "BATCH = 32\n",
    "\n",
    "# ملاحظة مهمة: لو قلب الصورة أفقيًا يغيّر معنى الإشارة (يمين/يسار)، عطّلي horizontal_flip\n",
    "ALLOW_FLIP = False  # غيّريها True فقط إذا متأكدة ما يغيّر المعنى عندكم\n",
    "\n",
    "train_gen = ImageDataGenerator(\n",
    "    rescale=1./255,\n",
    "    rotation_range=15,\n",
    "    width_shift_range=0.08,\n",
    "    height_shift_range=0.08,\n",
    "    zoom_range=0.10,\n",
    "    brightness_range=(0.9, 1.1),\n",
    "    horizontal_flip=ALLOW_FLIP\n",
    ")\n",
    "\n",
    "val_test_gen = ImageDataGenerator(rescale=1./255)\n",
    "\n",
    "# مجرد تعريف (ممكن تستخدمينه في Notebook التدريب)\n",
    "print(\"Augmentation is ready. Reminder: horizontal_flip=\", ALLOW_FLIP)"
   ]
  }
 ],
 "metadata": {
  "kernelspec": {
   "display_name": ".venv",
   "language": "python",
   "name": "python3"
  },
  "language_info": {
   "codemirror_mode": {
    "name": "ipython",
    "version": 3
   },
   "file_extension": ".py",
   "mimetype": "text/x-python",
   "name": "python",
   "nbconvert_exporter": "python",
   "pygments_lexer": "ipython3",
   "version": "3.11.8"
  }
 },
 "nbformat": 4,
 "nbformat_minor": 5
}
