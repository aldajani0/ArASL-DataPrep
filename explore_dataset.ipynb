{
 "cells": [
  {
   "cell_type": "code",
   "execution_count": 8,
   "id": "edcc6058",
   "metadata": {},
   "outputs": [],
   "source": [
    "import os\n",
    "from pathlib import Path"
   ]
  },
  {
   "cell_type": "code",
   "execution_count": 11,
   "id": "35f5ff76",
   "metadata": {},
   "outputs": [
    {
     "name": "stdout",
     "output_type": "stream",
     "text": [
      "Number of letters (volumes): 1\n",
      "the letters: ArASL_Database_54K_Final ==> Number of photos: 0\n"
     ]
    }
   ],
   "source": [
    "data_dir = '../Dataset'\n",
    "classes = [d for d in os.listdir(data_dir) if os.path.isdir(os.path.join(data_dir, d))]\n",
    "print(f'Number of letters (volumes): {len(classes)}')\n",
    "\n",
    "for c in sorted(classes):\n",
    "    folder = os.path.join(data_dir, c)\n",
    "    n = len([img for img in os.listdir(folder) if img.lower().endswith(('.png', '.jpg', '.jpeg'))])\n",
    "    print(f'the letters: {c:10} ==> Number of photos: {n}')"
   ]
  }
 ],
 "metadata": {
  "kernelspec": {
   "display_name": "Python (.venv)",
   "language": "python",
   "name": "venv"
  },
  "language_info": {
   "codemirror_mode": {
    "name": "ipython",
    "version": 3
   },
   "file_extension": ".py",
   "mimetype": "text/x-python",
   "name": "python",
   "nbconvert_exporter": "python",
   "pygments_lexer": "ipython3",
   "version": "3.11.8"
  }
 },
 "nbformat": 4,
 "nbformat_minor": 5
}
