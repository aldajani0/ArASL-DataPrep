{
 "cells": [
  {
   "cell_type": "markdown",
   "id": "6a68785a",
   "metadata": {},
   "source": [
    "IMPORTS & CONFIG"
   ]
  },
  {
   "cell_type": "code",
   "execution_count": 7,
   "id": "82f4909b",
   "metadata": {},
   "outputs": [],
   "source": [
    "from pathlib import Path\n",
    "import shutil, json, math, random, hashlib\n",
    "from collections import defaultdict, Counter\n",
    "import matplotlib.pyplot as plt\n",
    "import matplotlib.pyplot as plt\n",
    "\n",
    "import cv2\n",
    "import numpy as np\n",
    "import pandas as pd\n",
    "from tqdm import tqdm\n",
    "import matplotlib.pyplot as plt\n",
    "from IPython.display import display  # لعرض الجداول في النوتبوك"
   ]
  },
  {
   "cell_type": "code",
   "execution_count": 8,
   "id": "f1df370f",
   "metadata": {},
   "outputs": [],
   "source": [
    "SOURCE_DIR = Path(\"/Users/amirah/Desktop/mydataset/ArASL_Database_54K_Final\")\n",
    "\n",
    "# هنا بنحفظ النسخة النظيفة بعد التنظيف\n",
    "CLEAN_DIR  = Path(\"./ArASL_Cleaned\")\n",
    "\n",
    "#مجلد لحفظ التقارير والسجلات أثناء التنظيف\n",
    "CLEAN_LOGS = Path(\"./clean_logs\")\n",
    "CLEAN_LOGS.mkdir(parents=True, exist_ok=True) #عن التكرارات، الصور المحذوفة، الملخص\n",
    "\n",
    "# اعدادات معالجة الصور\n",
    "TARGET_SIZE = (64, 64)     # كل الصور بعد التنظيف راح تنعاد تحجيمها لمقاس 64\n",
    "TO_GRAYSCALE = True        # نحول الصورة الى رمادي (مفيد للغة الاشارة)\n",
    "IMG_EXTS      = {\".png\", \".jpg\", \".jpeg\", \".bmp\"}\n",
    "\n",
    "# التعامل مع التكرارات\n",
    "DEDUP_SCOPE = \"per_class\"  # هذا يحدد كيف نفحص التكرارات\n",
    "DEDUP_ACTION  = \"delete\"         # حذف نهائي من المصدر\n",
    "\n",
    "RANDOM_SEED = 42\n",
    "random.seed(RANDOM_SEED)\n",
    "np.random.seed(RANDOM_SEED)"
   ]
  },
  {
   "cell_type": "markdown",
   "id": "8af17e2d",
   "metadata": {},
   "source": [
    "HELPERS"
   ]
  },
  {
   "cell_type": "code",
   "execution_count": 9,
   "id": "cfc6d7c5",
   "metadata": {},
   "outputs": [],
   "source": [
    "def is_image(p: Path) -> bool:\n",
    "    # نتاكد ان الملف صورة من الامتداد\n",
    "    return p.suffix.lower() in IMG_EXTS\n",
    "\n",
    "def safe_imread(path: Path, flags=cv2.IMREAD_UNCHANGED):\n",
    "    # قراءة آمنة؛ ترجع None لو الصورة تالفة\n",
    "    try:\n",
    "        return cv2.imread(str(path), flags)\n",
    "    except Exception:\n",
    "        return None\n",
    "\n",
    "def md5_of_file(path: Path, chunk_size=1<<20):\n",
    "    #  بصمة الملف (للكشف عن التكرار)\n",
    "    h = hashlib.md5()\n",
    "    with open(path, \"rb\") as f:\n",
    "        for chunk in iter(lambda: f.read(chunk_size), b\"\"):\n",
    "            h.update(chunk)\n",
    "    return h.hexdigest()\n",
    "\n",
    "def ensure_dir(p: Path):\n",
    "    p.mkdir(parents=True, exist_ok=True)\n",
    "    return p\n",
    "\n",
    "def write_json(obj, path: Path):\n",
    "    with open(path, \"w\", encoding=\"utf-8\") as f:\n",
    "        json.dump(obj, f, ensure_ascii=False, indent=2)"
   ]
  },
  {
   "cell_type": "markdown",
   "id": "59a23958",
   "metadata": {},
   "source": [
    "SCAN CLASSES & FILES"
   ]
  },
  {
   "cell_type": "code",
   "execution_count": 10,
   "id": "f3c5ce97",
   "metadata": {},
   "outputs": [
    {
     "name": "stdout",
     "output_type": "stream",
     "text": [
      "[INFO] classes: 32 | images: 54049\n"
     ]
    },
    {
     "data": {
      "text/html": [
       "<div>\n",
       "<style scoped>\n",
       "    .dataframe tbody tr th:only-of-type {\n",
       "        vertical-align: middle;\n",
       "    }\n",
       "\n",
       "    .dataframe tbody tr th {\n",
       "        vertical-align: top;\n",
       "    }\n",
       "\n",
       "    .dataframe thead th {\n",
       "        text-align: right;\n",
       "    }\n",
       "</style>\n",
       "<table border=\"1\" class=\"dataframe\">\n",
       "  <thead>\n",
       "    <tr style=\"text-align: right;\">\n",
       "      <th></th>\n",
       "      <th>class</th>\n",
       "      <th>path</th>\n",
       "    </tr>\n",
       "  </thead>\n",
       "  <tbody>\n",
       "    <tr>\n",
       "      <th>0</th>\n",
       "      <td>ain</td>\n",
       "      <td>/Users/amirah/Desktop/mydataset/ArASL_Database...</td>\n",
       "    </tr>\n",
       "    <tr>\n",
       "      <th>1</th>\n",
       "      <td>ain</td>\n",
       "      <td>/Users/amirah/Desktop/mydataset/ArASL_Database...</td>\n",
       "    </tr>\n",
       "    <tr>\n",
       "      <th>2</th>\n",
       "      <td>ain</td>\n",
       "      <td>/Users/amirah/Desktop/mydataset/ArASL_Database...</td>\n",
       "    </tr>\n",
       "  </tbody>\n",
       "</table>\n",
       "</div>"
      ],
      "text/plain": [
       "  class                                               path\n",
       "0   ain  /Users/amirah/Desktop/mydataset/ArASL_Database...\n",
       "1   ain  /Users/amirah/Desktop/mydataset/ArASL_Database...\n",
       "2   ain  /Users/amirah/Desktop/mydataset/ArASL_Database..."
      ]
     },
     "metadata": {},
     "output_type": "display_data"
    }
   ],
   "source": [
    "assert SOURCE_DIR.exists(), f\"Dataset not found at {SOURCE_DIR}\"\n",
    "\n",
    "classes = sorted([d for d in SOURCE_DIR.iterdir() if d.is_dir()], key=lambda p: p.name)\n",
    "assert classes, \"No class folders found.\"\n",
    "\n",
    "# دخلنا داخل كل كلاس وجمعنا الصور\n",
    "all_items = []\n",
    "for c in classes:\n",
    "    files = [p for p in c.iterdir() if is_image(p)]\n",
    "    for p in files:\n",
    "        all_items.append({\"class\": c.name, \"path\": p})\n",
    "\n",
    "df_files = pd.DataFrame(all_items) # حولناها لجدول (DataFrame)\n",
    "print(f\"[INFO] classes: {len(classes)} | images: {len(df_files)}\")\n",
    "display(df_files.head(3))"
   ]
  },
  {
   "cell_type": "code",
   "execution_count": 11,
   "id": "74d9bc44",
   "metadata": {},
   "outputs": [
    {
     "data": {
      "text/plain": [
       "array(['ain', 'al', 'aleff', 'bb', 'dal', 'dha', 'dhad', 'fa', 'gaaf',\n",
       "       'ghain', 'ha', 'haa', 'jeem', 'kaaf', 'khaa', 'la', 'laam', 'meem',\n",
       "       'nun', 'ra', 'saad', 'seen', 'sheen', 'ta', 'taa', 'thaa', 'thal',\n",
       "       'toot', 'waw', 'ya', 'yaa', 'zay'], dtype=object)"
      ]
     },
     "execution_count": 11,
     "metadata": {},
     "output_type": "execute_result"
    }
   ],
   "source": [
    "df_files[\"class\"].unique() #هوس اني اشيك كل مره"
   ]
  },
  {
   "cell_type": "markdown",
   "id": "277e8851",
   "metadata": {},
   "source": [
    "DUPLICATE DETECTION"
   ]
  },
  {
   "cell_type": "code",
   "execution_count": 12,
   "id": "0723c562",
   "metadata": {},
   "outputs": [
    {
     "name": "stderr",
     "output_type": "stream",
     "text": [
      "Hashing (per class): 100%|██████████| 32/32 [00:05<00:00,  5.52it/s]"
     ]
    },
    {
     "name": "stdout",
     "output_type": "stream",
     "text": [
      "[INFO] duplicates found (files to remove): 5627\n"
     ]
    },
    {
     "name": "stderr",
     "output_type": "stream",
     "text": [
      "\n"
     ]
    },
    {
     "data": {
      "text/html": [
       "<div>\n",
       "<style scoped>\n",
       "    .dataframe tbody tr th:only-of-type {\n",
       "        vertical-align: middle;\n",
       "    }\n",
       "\n",
       "    .dataframe tbody tr th {\n",
       "        vertical-align: top;\n",
       "    }\n",
       "\n",
       "    .dataframe thead th {\n",
       "        text-align: right;\n",
       "    }\n",
       "</style>\n",
       "<table border=\"1\" class=\"dataframe\">\n",
       "  <thead>\n",
       "    <tr style=\"text-align: right;\">\n",
       "      <th></th>\n",
       "      <th>scope</th>\n",
       "      <th>hash</th>\n",
       "      <th>kept</th>\n",
       "      <th>duplicates</th>\n",
       "    </tr>\n",
       "  </thead>\n",
       "  <tbody>\n",
       "    <tr>\n",
       "      <th>0</th>\n",
       "      <td>ain</td>\n",
       "      <td>64e7ee0539cf00096b151f984a75d30c</td>\n",
       "      <td>/Users/amirah/Desktop/mydataset/ArASL_Database...</td>\n",
       "      <td>19</td>\n",
       "    </tr>\n",
       "    <tr>\n",
       "      <th>1</th>\n",
       "      <td>ra</td>\n",
       "      <td>ec7d6cbb8809f8984f154f7c3c82695c</td>\n",
       "      <td>/Users/amirah/Desktop/mydataset/ArASL_Database...</td>\n",
       "      <td>19</td>\n",
       "    </tr>\n",
       "    <tr>\n",
       "      <th>2</th>\n",
       "      <td>ra</td>\n",
       "      <td>b42553cb2c5150c80cfefa3974204470</td>\n",
       "      <td>/Users/amirah/Desktop/mydataset/ArASL_Database...</td>\n",
       "      <td>19</td>\n",
       "    </tr>\n",
       "    <tr>\n",
       "      <th>3</th>\n",
       "      <td>ra</td>\n",
       "      <td>856e41e752670bf5066696b23f0063ad</td>\n",
       "      <td>/Users/amirah/Desktop/mydataset/ArASL_Database...</td>\n",
       "      <td>19</td>\n",
       "    </tr>\n",
       "    <tr>\n",
       "      <th>4</th>\n",
       "      <td>ra</td>\n",
       "      <td>30aeeb4890a170c52c46687c1d2cd7f0</td>\n",
       "      <td>/Users/amirah/Desktop/mydataset/ArASL_Database...</td>\n",
       "      <td>19</td>\n",
       "    </tr>\n",
       "    <tr>\n",
       "      <th>5</th>\n",
       "      <td>nun</td>\n",
       "      <td>ea0bfa9dadf46bd95ca508bd72137745</td>\n",
       "      <td>/Users/amirah/Desktop/mydataset/ArASL_Database...</td>\n",
       "      <td>19</td>\n",
       "    </tr>\n",
       "    <tr>\n",
       "      <th>6</th>\n",
       "      <td>nun</td>\n",
       "      <td>b87bf4c7d8ffc6bc0c4ef5c780e1ab5e</td>\n",
       "      <td>/Users/amirah/Desktop/mydataset/ArASL_Database...</td>\n",
       "      <td>19</td>\n",
       "    </tr>\n",
       "    <tr>\n",
       "      <th>7</th>\n",
       "      <td>nun</td>\n",
       "      <td>0a42718fe85b2451a6f7c727178aca51</td>\n",
       "      <td>/Users/amirah/Desktop/mydataset/ArASL_Database...</td>\n",
       "      <td>19</td>\n",
       "    </tr>\n",
       "    <tr>\n",
       "      <th>8</th>\n",
       "      <td>nun</td>\n",
       "      <td>84e77754fdf64f80ccb2b5d142793bee</td>\n",
       "      <td>/Users/amirah/Desktop/mydataset/ArASL_Database...</td>\n",
       "      <td>19</td>\n",
       "    </tr>\n",
       "    <tr>\n",
       "      <th>9</th>\n",
       "      <td>nun</td>\n",
       "      <td>5fcc5542be3a0ee99b31245ddf92dfaa</td>\n",
       "      <td>/Users/amirah/Desktop/mydataset/ArASL_Database...</td>\n",
       "      <td>19</td>\n",
       "    </tr>\n",
       "  </tbody>\n",
       "</table>\n",
       "</div>"
      ],
      "text/plain": [
       "  scope                              hash  \\\n",
       "0   ain  64e7ee0539cf00096b151f984a75d30c   \n",
       "1    ra  ec7d6cbb8809f8984f154f7c3c82695c   \n",
       "2    ra  b42553cb2c5150c80cfefa3974204470   \n",
       "3    ra  856e41e752670bf5066696b23f0063ad   \n",
       "4    ra  30aeeb4890a170c52c46687c1d2cd7f0   \n",
       "5   nun  ea0bfa9dadf46bd95ca508bd72137745   \n",
       "6   nun  b87bf4c7d8ffc6bc0c4ef5c780e1ab5e   \n",
       "7   nun  0a42718fe85b2451a6f7c727178aca51   \n",
       "8   nun  84e77754fdf64f80ccb2b5d142793bee   \n",
       "9   nun  5fcc5542be3a0ee99b31245ddf92dfaa   \n",
       "\n",
       "                                                kept  duplicates  \n",
       "0  /Users/amirah/Desktop/mydataset/ArASL_Database...          19  \n",
       "1  /Users/amirah/Desktop/mydataset/ArASL_Database...          19  \n",
       "2  /Users/amirah/Desktop/mydataset/ArASL_Database...          19  \n",
       "3  /Users/amirah/Desktop/mydataset/ArASL_Database...          19  \n",
       "4  /Users/amirah/Desktop/mydataset/ArASL_Database...          19  \n",
       "5  /Users/amirah/Desktop/mydataset/ArASL_Database...          19  \n",
       "6  /Users/amirah/Desktop/mydataset/ArASL_Database...          19  \n",
       "7  /Users/amirah/Desktop/mydataset/ArASL_Database...          19  \n",
       "8  /Users/amirah/Desktop/mydataset/ArASL_Database...          19  \n",
       "9  /Users/amirah/Desktop/mydataset/ArASL_Database...          19  "
      ]
     },
     "metadata": {},
     "output_type": "display_data"
    }
   ],
   "source": [
    "assert DEDUP_SCOPE == \"per_class\", \"This notebook implements 'per_class' only.\"\n",
    "\n",
    "dups_map = {}      # (class, hash) -> {\"keep\": Path, \"dups\": [Path, ...]}\n",
    "hash_of_path = {}\n",
    "\n",
    "for cls in tqdm(sorted(df_files[\"class\"].unique()), desc=\"Hashing (per class)\"):\n",
    "    sub = df_files[df_files[\"class\"] == cls]\n",
    "    seen = {}  # hash -> first path (keep)\n",
    "    for _, row in sub.iterrows():\n",
    "        h = md5_of_file(row[\"path\"])\n",
    "        hash_of_path[row[\"path\"]] = h\n",
    "        key = (cls, h)\n",
    "        if h in seen:\n",
    "            if key not in dups_map:\n",
    "                dups_map[key] = {\"keep\": seen[h], \"dups\": []}\n",
    "            dups_map[key][\"dups\"].append(row[\"path\"])\n",
    "        else:\n",
    "            seen[h] = row[\"path\"]\n",
    "\n",
    "# Normalize → table + list to remove (robust لو ما فيه مكررات)\n",
    "to_remove = set()\n",
    "dup_rows = []\n",
    "for (cls, h), rec in dups_map.items():\n",
    "    if not rec.get(\"dups\"):\n",
    "        continue\n",
    "    for p in rec[\"dups\"]:\n",
    "        to_remove.add(p)\n",
    "    dup_rows.append({\n",
    "        \"scope\": cls,\n",
    "        \"hash\":  h,\n",
    "        \"kept\":  str(rec[\"keep\"]),\n",
    "        \"duplicates\": len(rec[\"dups\"]),\n",
    "    })\n",
    "\n",
    "if dup_rows:\n",
    "    df_dups = pd.DataFrame(dup_rows).sort_values(\"duplicates\", ascending=False).reset_index(drop=True)\n",
    "else:\n",
    "    df_dups = pd.DataFrame(columns=[\"scope\", \"hash\", \"kept\", \"duplicates\"])\n",
    "\n",
    "print(f\"[INFO] duplicates found (files to remove): {len(to_remove)}\")\n",
    "if not df_dups.empty:\n",
    "    display(df_dups.head(10))\n",
    "else:\n",
    "    print(\"[INFO] No duplicate groups detected.\")\n",
    "\n",
    "# حفظ الملخصات\n",
    "write_json({\"duplicates_to_remove\": list(map(str, to_remove))}, CLEAN_LOGS / \"duplicates_to_remove.json\")\n",
    "df_dups.to_csv(CLEAN_LOGS / \"duplicates_summary.csv\", index=False)"
   ]
  },
  {
   "cell_type": "markdown",
   "id": "9a737b24",
   "metadata": {},
   "source": [
    "APPLY DEDUP ACTION (DELETE)\n"
   ]
  },
  {
   "cell_type": "code",
   "execution_count": 13,
   "id": "26e45e46",
   "metadata": {},
   "outputs": [
    {
     "name": "stderr",
     "output_type": "stream",
     "text": [
      "Deleting duplicates: 100%|██████████| 5627/5627 [00:00<00:00, 14985.84it/s]\n"
     ]
    },
    {
     "name": "stdout",
     "output_type": "stream",
     "text": [
      "[INFO] duplicates removed from source: 5627 | mode: delete\n",
      "[INFO] post-dedup images: 48422\n"
     ]
    }
   ],
   "source": [
    "assert DEDUP_ACTION == \"delete\", \"Set DEDUP_ACTION='delete' to actually remove duplicates.\"\n",
    "\n",
    "removed_list = []\n",
    "for p in tqdm(list(to_remove), desc=\"Deleting duplicates\"):\n",
    "    try:\n",
    "        p.unlink(missing_ok=True)  # حذف نهائي\n",
    "        removed_list.append(str(p))\n",
    "    except Exception as e:\n",
    "        print(\"[WARN]\", e)\n",
    "\n",
    "write_json({\"duplicates_removed\": removed_list, \"mode\": DEDUP_ACTION}, CLEAN_LOGS / \"duplicates_removed.json\")\n",
    "print(f\"[INFO] duplicates removed from source: {len(removed_list)} | mode: {DEDUP_ACTION}\")\n",
    "\n",
    "# إعادة مسح بعد الحذف\n",
    "all_items = []\n",
    "for c in classes:\n",
    "    for p in c.iterdir():\n",
    "        if is_image(p):\n",
    "            all_items.append({\"class\": c.name, \"path\": p})\n",
    "df_files = pd.DataFrame(all_items)\n",
    "print(f\"[INFO] post-dedup images: {len(df_files)}\")"
   ]
  },
  {
   "cell_type": "markdown",
   "id": "459a1905",
   "metadata": {},
   "source": [
    "RESCAN AFTER DEDUP\n"
   ]
  },
  {
   "cell_type": "code",
   "execution_count": 14,
   "id": "9fffaba4",
   "metadata": {},
   "outputs": [
    {
     "name": "stdout",
     "output_type": "stream",
     "text": [
      "[INFO] post-dedup images: 48422\n"
     ]
    }
   ],
   "source": [
    "all_items = []\n",
    "for c in classes:\n",
    "    for p in c.iterdir():\n",
    "        if is_image(p):\n",
    "            all_items.append({\"class\": c.name, \"path\": p})\n",
    "df_files = pd.DataFrame(all_items)\n",
    "print(f\"[INFO] post-dedup images: {len(df_files)}\")"
   ]
  },
  {
   "cell_type": "markdown",
   "id": "cbcb96d7",
   "metadata": {},
   "source": [
    "PREPROCESS HELPERS (GRAY + PAD + RESIZE)\n"
   ]
  },
  {
   "cell_type": "code",
   "execution_count": 15,
   "id": "2d41325e",
   "metadata": {},
   "outputs": [],
   "source": [
    "def preprocess_img(img):\n",
    "    #  نحول الصورة إلى رمادي لو كانت ملوّنة (BGR/BGRA)\n",
    "    if TO_GRAYSCALE and img.ndim == 3:\n",
    "        if img.shape[2] == 4:\n",
    "            img = cv2.cvtColor(img, cv2.COLOR_BGRA2GRAY)\n",
    "        else:\n",
    "            img = cv2.cvtColor(img, cv2.COLOR_BGR2GRAY)\n",
    "    return img\n",
    "\n",
    "def resize_keep_aspect(img, target_size=(64, 64), pad_value=255):\n",
    "    # نحافظ على نسبة الأبعاد عبر padding لمربع ثم resize نهائي\n",
    "    tw, th = target_size  # width, height\n",
    "    h, w = img.shape[:2]\n",
    "    side = max(h, w)\n",
    "\n",
    "    # كانفاس أبيض\n",
    "    if img.ndim == 2:\n",
    "        canvas = np.full((side, side), pad_value, dtype=img.dtype)\n",
    "    else:\n",
    "        canvas = np.full((side, side, img.shape[2]), pad_value, dtype=img.dtype)\n",
    "\n",
    "    # وضع الصورة في المنتصف\n",
    "    y0 = (side - h) // 2\n",
    "    x0 = (side - w) // 2\n",
    "    canvas[y0:y0 + h, x0:x0 + w] = img\n",
    "\n",
    "    # تغيير المقاس النهائي\n",
    "    out = cv2.resize(canvas, (tw, th), interpolation=cv2.INTER_AREA)\n",
    "    return out"
   ]
  },
  {
   "cell_type": "markdown",
   "id": "aa948d84",
   "metadata": {},
   "source": [
    "BUILD CLEANED DATASET"
   ]
  },
  {
   "cell_type": "code",
   "execution_count": 16,
   "id": "8933555e",
   "metadata": {},
   "outputs": [
    {
     "name": "stderr",
     "output_type": "stream",
     "text": [
      "Copying -> CLEAN_DIR: 100%|██████████| 48422/48422 [00:10<00:00, 4432.75it/s]"
     ]
    },
    {
     "name": "stdout",
     "output_type": "stream",
     "text": [
      "[INFO] written: 48422 | corrupted skipped: 0\n"
     ]
    },
    {
     "name": "stderr",
     "output_type": "stream",
     "text": [
      "\n"
     ]
    }
   ],
   "source": [
    "# تجهيز مجلدات الكلاسات في CLEAN_DIR\n",
    "for c in classes:\n",
    "    (CLEAN_DIR / c.name).mkdir(parents=True, exist_ok=True)\n",
    "\n",
    "skipped_corrupted = 0\n",
    "written_count = 0\n",
    "\n",
    "progress = tqdm(total=len(df_files), desc=\"Copying -> CLEAN_DIR\")\n",
    "for _, row in df_files.iterrows():\n",
    "    src = row[\"path\"]\n",
    "    cls = row[\"class\"]\n",
    "\n",
    "    # 1) قراءة آمنة\n",
    "    im = safe_imread(src)\n",
    "    if im is None:\n",
    "        skipped_corrupted += 1\n",
    "        progress.update(1)\n",
    "        continue\n",
    "\n",
    "    # 2) تحويل لرمادي (إن مفعّل)\n",
    "    im = preprocess_img(im)\n",
    "\n",
    "    # 3) padding + resize\n",
    "    im = resize_keep_aspect(im, TARGET_SIZE, pad_value=255)\n",
    "\n",
    "    # 4) حفظ كـ PNG (قناة وحدة لو رمادي)\n",
    "    dst = CLEAN_DIR / cls / (src.stem + \".png\")\n",
    "    if im.ndim == 2:\n",
    "        cv2.imwrite(str(dst), im)\n",
    "    else:\n",
    "        cv2.imwrite(str(dst), cv2.cvtColor(im, cv2.COLOR_BGR2RGB))\n",
    "\n",
    "    written_count += 1\n",
    "    progress.update(1)\n",
    "\n",
    "progress.close()\n",
    "print(f\"[INFO] written: {written_count} | corrupted skipped: {skipped_corrupted}\")"
   ]
  },
  {
   "cell_type": "markdown",
   "id": "dec00fe5",
   "metadata": {},
   "source": [
    "VERIFY CLEANED COUNTS & SUMMARY"
   ]
  },
  {
   "cell_type": "code",
   "execution_count": 17,
   "id": "429cf856",
   "metadata": {},
   "outputs": [
    {
     "data": {
      "text/html": [
       "<div>\n",
       "<style scoped>\n",
       "    .dataframe tbody tr th:only-of-type {\n",
       "        vertical-align: middle;\n",
       "    }\n",
       "\n",
       "    .dataframe tbody tr th {\n",
       "        vertical-align: top;\n",
       "    }\n",
       "\n",
       "    .dataframe thead th {\n",
       "        text-align: right;\n",
       "    }\n",
       "</style>\n",
       "<table border=\"1\" class=\"dataframe\">\n",
       "  <thead>\n",
       "    <tr style=\"text-align: right;\">\n",
       "      <th></th>\n",
       "      <th>class</th>\n",
       "      <th>count</th>\n",
       "    </tr>\n",
       "  </thead>\n",
       "  <tbody>\n",
       "    <tr>\n",
       "      <th>0</th>\n",
       "      <td>ain</td>\n",
       "      <td>1923</td>\n",
       "    </tr>\n",
       "    <tr>\n",
       "      <th>1</th>\n",
       "      <td>al</td>\n",
       "      <td>1341</td>\n",
       "    </tr>\n",
       "    <tr>\n",
       "      <th>2</th>\n",
       "      <td>aleff</td>\n",
       "      <td>1473</td>\n",
       "    </tr>\n",
       "    <tr>\n",
       "      <th>3</th>\n",
       "      <td>bb</td>\n",
       "      <td>1604</td>\n",
       "    </tr>\n",
       "    <tr>\n",
       "      <th>4</th>\n",
       "      <td>dal</td>\n",
       "      <td>1443</td>\n",
       "    </tr>\n",
       "    <tr>\n",
       "      <th>5</th>\n",
       "      <td>dha</td>\n",
       "      <td>1552</td>\n",
       "    </tr>\n",
       "    <tr>\n",
       "      <th>6</th>\n",
       "      <td>dhad</td>\n",
       "      <td>1483</td>\n",
       "    </tr>\n",
       "    <tr>\n",
       "      <th>7</th>\n",
       "      <td>fa</td>\n",
       "      <td>1766</td>\n",
       "    </tr>\n",
       "    <tr>\n",
       "      <th>8</th>\n",
       "      <td>gaaf</td>\n",
       "      <td>1516</td>\n",
       "    </tr>\n",
       "    <tr>\n",
       "      <th>9</th>\n",
       "      <td>ghain</td>\n",
       "      <td>1788</td>\n",
       "    </tr>\n",
       "    <tr>\n",
       "      <th>10</th>\n",
       "      <td>ha</td>\n",
       "      <td>1420</td>\n",
       "    </tr>\n",
       "    <tr>\n",
       "      <th>11</th>\n",
       "      <td>haa</td>\n",
       "      <td>1338</td>\n",
       "    </tr>\n",
       "    <tr>\n",
       "      <th>12</th>\n",
       "      <td>jeem</td>\n",
       "      <td>1362</td>\n",
       "    </tr>\n",
       "    <tr>\n",
       "      <th>13</th>\n",
       "      <td>kaaf</td>\n",
       "      <td>1588</td>\n",
       "    </tr>\n",
       "    <tr>\n",
       "      <th>14</th>\n",
       "      <td>khaa</td>\n",
       "      <td>1412</td>\n",
       "    </tr>\n",
       "    <tr>\n",
       "      <th>15</th>\n",
       "      <td>la</td>\n",
       "      <td>1559</td>\n",
       "    </tr>\n",
       "    <tr>\n",
       "      <th>16</th>\n",
       "      <td>laam</td>\n",
       "      <td>1644</td>\n",
       "    </tr>\n",
       "    <tr>\n",
       "      <th>17</th>\n",
       "      <td>meem</td>\n",
       "      <td>1577</td>\n",
       "    </tr>\n",
       "    <tr>\n",
       "      <th>18</th>\n",
       "      <td>nun</td>\n",
       "      <td>1648</td>\n",
       "    </tr>\n",
       "    <tr>\n",
       "      <th>19</th>\n",
       "      <td>ra</td>\n",
       "      <td>1470</td>\n",
       "    </tr>\n",
       "    <tr>\n",
       "      <th>20</th>\n",
       "      <td>saad</td>\n",
       "      <td>1702</td>\n",
       "    </tr>\n",
       "    <tr>\n",
       "      <th>21</th>\n",
       "      <td>seen</td>\n",
       "      <td>1449</td>\n",
       "    </tr>\n",
       "    <tr>\n",
       "      <th>22</th>\n",
       "      <td>sheen</td>\n",
       "      <td>1317</td>\n",
       "    </tr>\n",
       "    <tr>\n",
       "      <th>23</th>\n",
       "      <td>ta</td>\n",
       "      <td>1647</td>\n",
       "    </tr>\n",
       "    <tr>\n",
       "      <th>24</th>\n",
       "      <td>taa</td>\n",
       "      <td>1645</td>\n",
       "    </tr>\n",
       "    <tr>\n",
       "      <th>25</th>\n",
       "      <td>thaa</td>\n",
       "      <td>1573</td>\n",
       "    </tr>\n",
       "    <tr>\n",
       "      <th>26</th>\n",
       "      <td>thal</td>\n",
       "      <td>1391</td>\n",
       "    </tr>\n",
       "    <tr>\n",
       "      <th>27</th>\n",
       "      <td>toot</td>\n",
       "      <td>1602</td>\n",
       "    </tr>\n",
       "    <tr>\n",
       "      <th>28</th>\n",
       "      <td>waw</td>\n",
       "      <td>1197</td>\n",
       "    </tr>\n",
       "    <tr>\n",
       "      <th>29</th>\n",
       "      <td>ya</td>\n",
       "      <td>1516</td>\n",
       "    </tr>\n",
       "    <tr>\n",
       "      <th>30</th>\n",
       "      <td>yaa</td>\n",
       "      <td>1290</td>\n",
       "    </tr>\n",
       "    <tr>\n",
       "      <th>31</th>\n",
       "      <td>zay</td>\n",
       "      <td>1186</td>\n",
       "    </tr>\n",
       "  </tbody>\n",
       "</table>\n",
       "</div>"
      ],
      "text/plain": [
       "    class  count\n",
       "0     ain   1923\n",
       "1      al   1341\n",
       "2   aleff   1473\n",
       "3      bb   1604\n",
       "4     dal   1443\n",
       "5     dha   1552\n",
       "6    dhad   1483\n",
       "7      fa   1766\n",
       "8    gaaf   1516\n",
       "9   ghain   1788\n",
       "10     ha   1420\n",
       "11    haa   1338\n",
       "12   jeem   1362\n",
       "13   kaaf   1588\n",
       "14   khaa   1412\n",
       "15     la   1559\n",
       "16   laam   1644\n",
       "17   meem   1577\n",
       "18    nun   1648\n",
       "19     ra   1470\n",
       "20   saad   1702\n",
       "21   seen   1449\n",
       "22  sheen   1317\n",
       "23     ta   1647\n",
       "24    taa   1645\n",
       "25   thaa   1573\n",
       "26   thal   1391\n",
       "27   toot   1602\n",
       "28    waw   1197\n",
       "29     ya   1516\n",
       "30    yaa   1290\n",
       "31    zay   1186"
      ]
     },
     "metadata": {},
     "output_type": "display_data"
    },
    {
     "name": "stdout",
     "output_type": "stream",
     "text": [
      "\n",
      "[DONE] Cleaning finished.\n",
      "Clean dir: /Users/amirah/Desktop/Sila - Data prep/ArASL_Cleaned\n",
      "Total images: 48422\n"
     ]
    }
   ],
   "source": [
    "rows = []\n",
    "for c in sorted([d for d in CLEAN_DIR.iterdir() if d.is_dir()], key=lambda p: p.name):\n",
    "    n = sum(1 for p in c.iterdir() if is_image(p))\n",
    "    rows.append({\"class\": c.name, \"count\": n})\n",
    "\n",
    "df_clean_counts = pd.DataFrame(rows).sort_values(\"class\").reset_index(drop=True)\n",
    "display(df_clean_counts)\n",
    "\n",
    "# حفظ التقارير\n",
    "df_clean_counts.to_csv(CLEAN_LOGS / \"clean_counts.csv\", index=False)\n",
    "\n",
    "total_clean = int(df_clean_counts[\"count\"].sum())\n",
    "summary = {\n",
    "    \"source_dir\": str(SOURCE_DIR.resolve()),\n",
    "    \"clean_dir\":  str(CLEAN_DIR.resolve()),\n",
    "    \"target_size\": TARGET_SIZE,\n",
    "    \"to_grayscale\": TO_GRAYSCALE,\n",
    "    \"dedup_scope\":  DEDUP_SCOPE,\n",
    "    \"dedup_action\": DEDUP_ACTION,\n",
    "    \"total_clean_images\": total_clean\n",
    "}\n",
    "write_json(summary, CLEAN_LOGS / \"clean_summary.json\")\n",
    "\n",
    "print(\"\\n[DONE] Cleaning finished.\")\n",
    "print(\"Clean dir:\", CLEAN_DIR.resolve())\n",
    "print(\"Total images:\", total_clean)"
   ]
  },
  {
   "cell_type": "markdown",
   "id": "ae94e846",
   "metadata": {},
   "source": [
    "SAMPLE GRID FROM CLEANED \n"
   ]
  },
  {
   "cell_type": "code",
   "execution_count": 18,
   "id": "98987b88",
   "metadata": {},
   "outputs": [
    {
     "data": {
      "image/png": "[encoded data removed]",
      "text/plain": [
       "<Figure size 1200x300 with 8 Axes>"
      ]
     },
     "metadata": {},
     "output_type": "display_data"
    },
    {
     "name": "stdout",
     "output_type": "stream",
     "text": [
      "Final total images after cleaning: 48422\n"
     ]
    }
   ],
   "source": [
    "classes_clean = sorted([d for d in CLEAN_DIR.iterdir() if d.is_dir()], key=lambda p: p.name)\n",
    "if classes_clean:\n",
    "    sample_class = random.choice(classes_clean)\n",
    "    sample_images = list(sample_class.glob(\"*.png\"))[:8]\n",
    "\n",
    "    if sample_images:\n",
    "        plt.figure(figsize=(12, 3))\n",
    "        for i, img_path in enumerate(sample_images, 1):\n",
    "            img = cv2.imread(str(img_path), cv2.IMREAD_GRAYSCALE)\n",
    "            plt.subplot(1, len(sample_images), i)\n",
    "            plt.imshow(img, cmap=\"gray\")\n",
    "            plt.title(sample_class.name)\n",
    "            plt.axis(\"off\")\n",
    "        plt.show()\n",
    "print(\"Final total images after cleaning:\", total_clean)"
   ]
  }
 ],
 "metadata": {
  "kernelspec": {
   "display_name": ".venv",
   "language": "python",
   "name": "python3"
  },
  "language_info": {
   "codemirror_mode": {
    "name": "ipython",
    "version": 3
   },
   "file_extension": ".py",
   "mimetype": "text/x-python",
   "name": "python",
   "nbconvert_exporter": "python",
   "pygments_lexer": "ipython3",
   "version": "3.11.8"
  }
 },
 "nbformat": 4,
 "nbformat_minor": 5
}
