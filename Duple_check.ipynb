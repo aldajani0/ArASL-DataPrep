{
 "cells": [
  {
   "cell_type": "markdown",
   "id": "b6a66bf2",
   "metadata": {},
   "source": [
    "1) تأكيد عدم وجود تكرارات داخل CLEAN_DIR (داخل الكلاس وعلى مستوى كل الداتا)"
   ]
  },
  {
   "cell_type": "code",
   "execution_count": 1,
   "id": "391d8ad9",
   "metadata": {},
   "outputs": [
    {
     "name": "stderr",
     "output_type": "stream",
     "text": [
      "per-class ain: 100%|██████████| 1923/1923 [00:00<00:00, 11834.06it/s]\n",
      "per-class al: 100%|██████████| 1341/1341 [00:00<00:00, 15614.98it/s]\n",
      "per-class aleff: 100%|██████████| 1473/1473 [00:00<00:00, 11232.43it/s]\n",
      "per-class bb: 100%|██████████| 1604/1604 [00:00<00:00, 10878.49it/s]\n",
      "per-class dal: 100%|██████████| 1443/1443 [00:00<00:00, 11166.84it/s]\n",
      "per-class dha: 100%|██████████| 1552/1552 [00:00<00:00, 12371.10it/s]\n",
      "per-class dhad: 100%|██████████| 1483/1483 [00:00<00:00, 11095.80it/s]\n",
      "per-class fa: 100%|██████████| 1766/1766 [00:00<00:00, 19570.50it/s]\n",
      "per-class gaaf: 100%|██████████| 1516/1516 [00:00<00:00, 20420.79it/s]\n",
      "per-class ghain: 100%|██████████| 1788/1788 [00:00<00:00, 19054.07it/s]\n",
      "per-class ha: 100%|██████████| 1420/1420 [00:00<00:00, 18876.44it/s]\n",
      "per-class haa: 100%|██████████| 1338/1338 [00:00<00:00, 16078.42it/s]\n",
      "per-class jeem: 100%|██████████| 1362/1362 [00:00<00:00, 17282.49it/s]\n",
      "per-class kaaf: 100%|██████████| 1588/1588 [00:00<00:00, 20402.17it/s]\n",
      "per-class khaa: 100%|██████████| 1412/1412 [00:00<00:00, 18469.10it/s]\n",
      "per-class la: 100%|██████████| 1559/1559 [00:00<00:00, 18614.29it/s]\n",
      "per-class laam: 100%|██████████| 1644/1644 [00:00<00:00, 11654.63it/s]\n",
      "per-class meem: 100%|██████████| 1577/1577 [00:00<00:00, 20740.25it/s]\n",
      "per-class nun: 100%|██████████| 1648/1648 [00:00<00:00, 23138.90it/s]\n",
      "per-class ra: 100%|██████████| 1470/1470 [00:00<00:00, 20771.58it/s]\n",
      "per-class saad: 100%|██████████| 1702/1702 [00:00<00:00, 22626.07it/s]\n",
      "per-class seen: 100%|██████████| 1449/1449 [00:00<00:00, 22021.29it/s]\n",
      "per-class sheen: 100%|██████████| 1317/1317 [00:00<00:00, 19007.09it/s]\n",
      "per-class ta: 100%|██████████| 1647/1647 [00:00<00:00, 22298.68it/s]\n",
      "per-class taa: 100%|██████████| 1645/1645 [00:00<00:00, 15550.85it/s]\n",
      "per-class thaa: 100%|██████████| 1573/1573 [00:00<00:00, 13146.04it/s]\n",
      "per-class thal: 100%|██████████| 1391/1391 [00:00<00:00, 13684.66it/s]\n",
      "per-class toot: 100%|██████████| 1602/1602 [00:00<00:00, 13370.04it/s]\n",
      "per-class waw: 100%|██████████| 1197/1197 [00:00<00:00, 19868.31it/s]\n",
      "per-class ya: 100%|██████████| 1516/1516 [00:00<00:00, 21083.68it/s]\n",
      "per-class yaa: 100%|██████████| 1290/1290 [00:00<00:00, 17295.93it/s]\n",
      "per-class zay: 100%|██████████| 1186/1186 [00:00<00:00, 15621.64it/s]\n"
     ]
    },
    {
     "name": "stdout",
     "output_type": "stream",
     "text": [
      "[CHECK] per-class duplicates total: 2\n",
      "[CHECK] cross-class duplicates total: 43\n"
     ]
    }
   ],
   "source": [
    "from pathlib import Path\n",
    "import hashlib, json\n",
    "from tqdm import tqdm\n",
    "\n",
    "CLEAN_DIR = Path(\"./ArASL_Cleaned\")\n",
    "IMG_EXTS  = {\".png\", \".jpg\", \".jpeg\", \".bmp\"}\n",
    "\n",
    "def is_img(p): return p.suffix.lower() in IMG_EXTS\n",
    "\n",
    "def md5_of_file(path, chunk=1<<20):\n",
    "    h = hashlib.md5()\n",
    "    with open(path, \"rb\") as f:\n",
    "        for ch in iter(lambda: f.read(chunk), b\"\"):\n",
    "            h.update(ch)\n",
    "    return h.hexdigest()\n",
    "\n",
    "# --- per-class duplicates ---\n",
    "dups_per_class = {}\n",
    "for c in sorted([d for d in CLEAN_DIR.iterdir() if d.is_dir()], key=lambda p: p.name):\n",
    "    seen = {}\n",
    "    for p in tqdm([x for x in c.iterdir() if is_img(x)], desc=f\"per-class {c.name}\"):\n",
    "        h = md5_of_file(p)\n",
    "        if h in seen:\n",
    "            dups_per_class.setdefault(c.name, []).append(str(p))\n",
    "        else:\n",
    "            seen[h] = str(p)\n",
    "\n",
    "# --- global duplicates (بين الكلاسات) ---\n",
    "seen_global = {}\n",
    "dups_global  = []\n",
    "for c in sorted([d for d in CLEAN_DIR.iterdir() if d.is_dir()], key=lambda p: p.name):\n",
    "    for p in [x for x in c.iterdir() if is_img(x)]:\n",
    "        h = md5_of_file(p)\n",
    "        if h in seen_global and Path(seen_global[h]).parent.name != c.name:\n",
    "            dups_global.append((seen_global[h], str(p)))\n",
    "        else:\n",
    "            seen_global[h] = str(p)\n",
    "\n",
    "print(\"[CHECK] per-class duplicates total:\", sum(len(v) for v in dups_per_class.values()))\n",
    "print(\"[CHECK] cross-class duplicates total:\", len(dups_global))\n",
    "\n",
    "# احفظ تقارير للتوثيق\n",
    "Path(\"./clean_logs\").mkdir(exist_ok=True)\n",
    "json.dump(dups_per_class, open(\"./clean_logs/check_per_class_dups.json\",\"w\"), indent=2, ensure_ascii=False)\n",
    "json.dump(dups_global,  open(\"./clean_logs/check_cross_class_dups.json\",\"w\"), indent=2, ensure_ascii=False)"
   ]
  },
  {
   "cell_type": "markdown",
   "id": "3dbb9fbb",
   "metadata": {},
   "source": [
    "2) تأكيد عدم تسريب بين الـ splits (نفس الصورة ظهرت في train/val/test)"
   ]
  },
  {
   "cell_type": "code",
   "execution_count": 2,
   "id": "7c29781d",
   "metadata": {},
   "outputs": [
    {
     "name": "stdout",
     "output_type": "stream",
     "text": [
      "[LEAK] train ∩ val : 8\n",
      "[LEAK] train ∩ test: 7\n",
      "[LEAK] val   ∩ test: 0\n"
     ]
    }
   ],
   "source": [
    "from pathlib import Path\n",
    "import hashlib\n",
    "\n",
    "SPLIT_DIR = Path(\"./ArASL_Split\")\n",
    "IMG_EXTS  = {\".png\", \".jpg\", \".jpeg\", \".bmp\"}\n",
    "\n",
    "def is_img(p): return p.suffix.lower() in IMG_EXTS\n",
    "def md5_of_file(path, chunk=1<<20):\n",
    "    h = hashlib.md5()\n",
    "    with open(path, \"rb\") as f:\n",
    "        for ch in iter(lambda: f.read(chunk), b\"\"):\n",
    "            h.update(ch)\n",
    "    return h.hexdigest()\n",
    "\n",
    "def hash_set(root):\n",
    "    hs = set()\n",
    "    for p in root.rglob(\"*\"):\n",
    "        if p.is_file() and is_img(p):\n",
    "            try: hs.add(md5_of_file(p))\n",
    "            except: pass\n",
    "    return hs\n",
    "\n",
    "train_h = hash_set(SPLIT_DIR/\"train\")\n",
    "val_h   = hash_set(SPLIT_DIR/\"val\")\n",
    "test_h  = hash_set(SPLIT_DIR/\"test\")\n",
    "\n",
    "print(\"[LEAK] train ∩ val :\", len(train_h & val_h))\n",
    "print(\"[LEAK] train ∩ test:\", len(train_h & test_h))\n",
    "print(\"[LEAK] val   ∩ test:\", len(val_h & test_h))"
   ]
  },
  {
   "cell_type": "markdown",
   "id": "c2cd050d",
   "metadata": {},
   "source": [
    "3) تأكيد المقاس والقناة (64×64، رمادي) في CLEAN_DIR"
   ]
  },
  {
   "cell_type": "code",
   "execution_count": 3,
   "id": "a1cc8e0e",
   "metadata": {},
   "outputs": [
    {
     "name": "stdout",
     "output_type": "stream",
     "text": [
      "[CHECK] non-64x64 images: 0\n",
      "[CHECK] non-grayscale images: 0\n"
     ]
    }
   ],
   "source": [
    "import cv2\n",
    "from pathlib import Path\n",
    "\n",
    "CLEAN_DIR = Path(\"./ArASL_Cleaned\")\n",
    "bad_shapes = []\n",
    "bad_modes  = []\n",
    "\n",
    "for p in CLEAN_DIR.rglob(\"*.png\"):\n",
    "    im = cv2.imread(str(p), cv2.IMREAD_UNCHANGED)   # نقرأ كما هو\n",
    "    if im is None:\n",
    "        continue\n",
    "    h, w = im.shape[:2]\n",
    "    if (w, h) != (64, 64):          # مقاس مختلف\n",
    "        bad_shapes.append(str(p))\n",
    "    # لو ثلاث قنوات نعدّها مخالفة لأن هدفنا رمادي\n",
    "    if im.ndim == 3 and im.shape[2] != 1:\n",
    "        bad_modes.append(str(p))\n",
    "\n",
    "print(\"[CHECK] non-64x64 images:\", len(bad_shapes))\n",
    "print(\"[CHECK] non-grayscale images:\", len(bad_modes))"
   ]
  },
  {
   "cell_type": "markdown",
   "id": "044ece1f",
   "metadata": {},
   "source": [
    "4) تأكيد الموازنة داخل train (وصلنا للهدف أو قريب منه) + توزيع val/test"
   ]
  },
  {
   "cell_type": "code",
   "execution_count": 4,
   "id": "80df8634",
   "metadata": {},
   "outputs": [
    {
     "name": "stdout",
     "output_type": "stream",
     "text": [
      "train total: 48038\n",
      "val   total: 4842\n",
      "test  total: 4842\n",
      "[BALANCE] train < target (1500): 0\n",
      "[BALANCE] train > target (1500): 1\n"
     ]
    },
    {
     "data": {
      "text/html": [
       "<div>\n",
       "<style scoped>\n",
       "    .dataframe tbody tr th:only-of-type {\n",
       "        vertical-align: middle;\n",
       "    }\n",
       "\n",
       "    .dataframe tbody tr th {\n",
       "        vertical-align: top;\n",
       "    }\n",
       "\n",
       "    .dataframe thead th {\n",
       "        text-align: right;\n",
       "    }\n",
       "</style>\n",
       "<table border=\"1\" class=\"dataframe\">\n",
       "  <thead>\n",
       "    <tr style=\"text-align: right;\">\n",
       "      <th>split</th>\n",
       "      <th>train%</th>\n",
       "      <th>val%</th>\n",
       "      <th>test%</th>\n",
       "    </tr>\n",
       "    <tr>\n",
       "      <th>class</th>\n",
       "      <th></th>\n",
       "      <th></th>\n",
       "      <th></th>\n",
       "    </tr>\n",
       "  </thead>\n",
       "  <tbody>\n",
       "    <tr>\n",
       "      <th>ain</th>\n",
       "      <td>80.0</td>\n",
       "      <td>10.0</td>\n",
       "      <td>10.0</td>\n",
       "    </tr>\n",
       "    <tr>\n",
       "      <th>al</th>\n",
       "      <td>84.8</td>\n",
       "      <td>7.6</td>\n",
       "      <td>7.6</td>\n",
       "    </tr>\n",
       "    <tr>\n",
       "      <th>aleff</th>\n",
       "      <td>83.6</td>\n",
       "      <td>8.2</td>\n",
       "      <td>8.2</td>\n",
       "    </tr>\n",
       "    <tr>\n",
       "      <th>bb</th>\n",
       "      <td>82.4</td>\n",
       "      <td>8.8</td>\n",
       "      <td>8.8</td>\n",
       "    </tr>\n",
       "    <tr>\n",
       "      <th>dal</th>\n",
       "      <td>83.8</td>\n",
       "      <td>8.0</td>\n",
       "      <td>8.1</td>\n",
       "    </tr>\n",
       "    <tr>\n",
       "      <th>dha</th>\n",
       "      <td>82.9</td>\n",
       "      <td>8.6</td>\n",
       "      <td>8.6</td>\n",
       "    </tr>\n",
       "    <tr>\n",
       "      <th>dhad</th>\n",
       "      <td>83.5</td>\n",
       "      <td>8.2</td>\n",
       "      <td>8.3</td>\n",
       "    </tr>\n",
       "    <tr>\n",
       "      <th>fa</th>\n",
       "      <td>80.9</td>\n",
       "      <td>9.6</td>\n",
       "      <td>9.5</td>\n",
       "    </tr>\n",
       "    <tr>\n",
       "      <th>gaaf</th>\n",
       "      <td>83.2</td>\n",
       "      <td>8.4</td>\n",
       "      <td>8.4</td>\n",
       "    </tr>\n",
       "    <tr>\n",
       "      <th>ghain</th>\n",
       "      <td>80.7</td>\n",
       "      <td>9.6</td>\n",
       "      <td>9.6</td>\n",
       "    </tr>\n",
       "  </tbody>\n",
       "</table>\n",
       "</div>"
      ],
      "text/plain": [
       "split  train%  val%  test%\n",
       "class                     \n",
       "ain      80.0  10.0   10.0\n",
       "al       84.8   7.6    7.6\n",
       "aleff    83.6   8.2    8.2\n",
       "bb       82.4   8.8    8.8\n",
       "dal      83.8   8.0    8.1\n",
       "dha      82.9   8.6    8.6\n",
       "dhad     83.5   8.2    8.3\n",
       "fa       80.9   9.6    9.5\n",
       "gaaf     83.2   8.4    8.4\n",
       "ghain    80.7   9.6    9.6"
      ]
     },
     "metadata": {},
     "output_type": "display_data"
    }
   ],
   "source": [
    "import pandas as pd\n",
    "from pathlib import Path\n",
    "\n",
    "SPLIT_DIR = Path(\"./ArASL_Split\")\n",
    "IMG_EXTS  = {\".png\",\".jpg\",\".jpeg\",\".bmp\"}\n",
    "TARGET_PER_CLASS = 1500  # عدّلي لو اخترتِ هدف آخر\n",
    "\n",
    "def is_img(p): return p.suffix.lower() in IMG_EXTS\n",
    "\n",
    "def count_split(split):\n",
    "    rows=[]\n",
    "    root = SPLIT_DIR / split\n",
    "    for c in sorted([d for d in root.iterdir() if d.is_dir()], key=lambda p:p.name):\n",
    "        n = sum(1 for p in c.iterdir() if is_img(p))\n",
    "        rows.append({\"class\": c.name, \"count\": n})\n",
    "    return pd.DataFrame(rows).sort_values(\"class\").reset_index(drop=True)\n",
    "\n",
    "df_tr = count_split(\"train\")\n",
    "df_va = count_split(\"val\")\n",
    "df_te = count_split(\"test\")\n",
    "\n",
    "print(\"train total:\", int(df_tr[\"count\"].sum()))\n",
    "print(\"val   total:\", int(df_va[\"count\"].sum()))\n",
    "print(\"test  total:\", int(df_te[\"count\"].sum()))\n",
    "\n",
    "# فحص الموازنة (train)\n",
    "too_low  = df_tr[df_tr[\"count\"] < TARGET_PER_CLASS]\n",
    "too_high = df_tr[df_tr[\"count\"] > TARGET_PER_CLASS]\n",
    "print(f\"[BALANCE] train < target ({TARGET_PER_CLASS}):\", len(too_low))\n",
    "print(f\"[BALANCE] train > target ({TARGET_PER_CLASS}):\", len(too_high))\n",
    "\n",
    "# تأكيد النِسَب في val/test لكل كلاس (تقريبًا 10%/10%)\n",
    "chk = pd.concat([\n",
    "    df_tr.assign(split=\"train\"),\n",
    "    df_va.assign(split=\"val\"),\n",
    "    df_te.assign(split=\"test\"),\n",
    "])\n",
    "pv = chk.pivot(index=\"class\", columns=\"split\", values=\"count\").fillna(0)\n",
    "pv[\"total\"]  = pv.sum(axis=1)\n",
    "pv[\"train%\"] = (pv[\"train\"]/pv[\"total\"]*100).round(1)\n",
    "pv[\"val%\"]   = (pv[\"val\"]/pv[\"total\"]*100).round(1)\n",
    "pv[\"test%\"]  = (pv[\"test\"]/pv[\"total\"]*100).round(1)\n",
    "display(pv[[\"train%\",\"val%\",\"test%\"]].head(10))"
   ]
  },
  {
   "cell_type": "markdown",
   "id": "142ec131",
   "metadata": {},
   "source": [
    "5) (اختياري) رسم سريع يوضّح توازن train بعد الـ augmentation"
   ]
  },
  {
   "cell_type": "code",
   "execution_count": 5,
   "id": "b162a990",
   "metadata": {},
   "outputs": [
    {
     "data": {
      "image/png": "[encoded data removed]",
      "text/plain": [
       "<Figure size 1600x400 with 1 Axes>"
      ]
     },
     "metadata": {},
     "output_type": "display_data"
    }
   ],
   "source": [
    "import numpy as np\n",
    "import matplotlib.pyplot as plt\n",
    "\n",
    "x = np.arange(len(df_tr))\n",
    "plt.figure(figsize=(16,4))\n",
    "plt.bar(x, df_tr[\"count\"].values)\n",
    "plt.xticks(x, df_tr[\"class\"].tolist(), rotation=90)\n",
    "plt.axhline(TARGET_PER_CLASS, linestyle=\"--\")\n",
    "plt.title(\"Train counts after balancing (target line dashed)\")\n",
    "plt.tight_layout(); plt.show()"
   ]
  }
 ],
 "metadata": {
  "kernelspec": {
   "display_name": ".venv",
   "language": "python",
   "name": "python3"
  },
  "language_info": {
   "codemirror_mode": {
    "name": "ipython",
    "version": 3
   },
   "file_extension": ".py",
   "mimetype": "text/x-python",
   "name": "python",
   "nbconvert_exporter": "python",
   "pygments_lexer": "ipython3",
   "version": "3.11.8"
  }
 },
 "nbformat": 4,
 "nbformat_minor": 5
}
